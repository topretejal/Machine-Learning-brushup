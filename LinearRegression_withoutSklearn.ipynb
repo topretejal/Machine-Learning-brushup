{
 "cells": [
  {
   "cell_type": "code",
   "execution_count": 24,
   "id": "7c3965b3",
   "metadata": {},
   "outputs": [],
   "source": [
    "import numpy as np\n",
    "import pandas as pd\n",
    "import matplotlib.pyplot as plt\n",
    "from sklearn.model_selection import train_test_split"
   ]
  },
  {
   "cell_type": "code",
   "execution_count": 38,
   "id": "642299fb",
   "metadata": {},
   "outputs": [],
   "source": [
    "class LinearRegression:\n",
    "    def _init_(self):\n",
    "#         y=b0+b1x+b2x2..\n",
    "        self.bias=None\n",
    "        self.weight=None\n",
    "        \n",
    "    def fit(self,x,y):\n",
    "        x_mean=x.mean()\n",
    "        y_mean=y.mean()\n",
    "        \n",
    "        #initializing the values of numerator and denominator for the calculation of weight\n",
    "\n",
    "        num=0\n",
    "        den=0\n",
    "\n",
    "        #calculating the cross deviation and deviation about x\n",
    "        for i in range(len(x)):\n",
    "            num+=(x[i]-x_mean)*(y[i]-y_mean) #cross_deviation\n",
    "            den+=(x[i]-x_mean)**2            #deviation\n",
    "\n",
    "        self.weight=num/den\n",
    "        self.bias=y_mean-(self.weight*x_mean)\n",
    "    \n",
    "    def predict(self,x):\n",
    "        x_mean=x.mean()\n",
    "        return self.bias+(self.weight*x)"
   ]
  },
  {
   "cell_type": "code",
   "execution_count": 39,
   "id": "f5ea3204",
   "metadata": {},
   "outputs": [],
   "source": [
    "df=pd.read_csv('Advertising.csv')"
   ]
  },
  {
   "cell_type": "code",
   "execution_count": 40,
   "id": "5f82e813",
   "metadata": {},
   "outputs": [
    {
     "data": {
      "text/html": [
       "<div>\n",
       "<style scoped>\n",
       "    .dataframe tbody tr th:only-of-type {\n",
       "        vertical-align: middle;\n",
       "    }\n",
       "\n",
       "    .dataframe tbody tr th {\n",
       "        vertical-align: top;\n",
       "    }\n",
       "\n",
       "    .dataframe thead th {\n",
       "        text-align: right;\n",
       "    }\n",
       "</style>\n",
       "<table border=\"1\" class=\"dataframe\">\n",
       "  <thead>\n",
       "    <tr style=\"text-align: right;\">\n",
       "      <th></th>\n",
       "      <th>Unnamed: 0</th>\n",
       "      <th>TV</th>\n",
       "      <th>radio</th>\n",
       "      <th>newspaper</th>\n",
       "      <th>sales</th>\n",
       "    </tr>\n",
       "  </thead>\n",
       "  <tbody>\n",
       "    <tr>\n",
       "      <th>0</th>\n",
       "      <td>1</td>\n",
       "      <td>230.1</td>\n",
       "      <td>37.8</td>\n",
       "      <td>69.2</td>\n",
       "      <td>22.1</td>\n",
       "    </tr>\n",
       "    <tr>\n",
       "      <th>1</th>\n",
       "      <td>2</td>\n",
       "      <td>44.5</td>\n",
       "      <td>39.3</td>\n",
       "      <td>45.1</td>\n",
       "      <td>10.4</td>\n",
       "    </tr>\n",
       "    <tr>\n",
       "      <th>2</th>\n",
       "      <td>3</td>\n",
       "      <td>17.2</td>\n",
       "      <td>45.9</td>\n",
       "      <td>69.3</td>\n",
       "      <td>9.3</td>\n",
       "    </tr>\n",
       "    <tr>\n",
       "      <th>3</th>\n",
       "      <td>4</td>\n",
       "      <td>151.5</td>\n",
       "      <td>41.3</td>\n",
       "      <td>58.5</td>\n",
       "      <td>18.5</td>\n",
       "    </tr>\n",
       "    <tr>\n",
       "      <th>4</th>\n",
       "      <td>5</td>\n",
       "      <td>180.8</td>\n",
       "      <td>10.8</td>\n",
       "      <td>58.4</td>\n",
       "      <td>12.9</td>\n",
       "    </tr>\n",
       "  </tbody>\n",
       "</table>\n",
       "</div>"
      ],
      "text/plain": [
       "   Unnamed: 0     TV  radio  newspaper  sales\n",
       "0           1  230.1   37.8       69.2   22.1\n",
       "1           2   44.5   39.3       45.1   10.4\n",
       "2           3   17.2   45.9       69.3    9.3\n",
       "3           4  151.5   41.3       58.5   18.5\n",
       "4           5  180.8   10.8       58.4   12.9"
      ]
     },
     "execution_count": 40,
     "metadata": {},
     "output_type": "execute_result"
    }
   ],
   "source": [
    "df.head()"
   ]
  },
  {
   "cell_type": "code",
   "execution_count": 41,
   "id": "5f3890a5",
   "metadata": {},
   "outputs": [],
   "source": [
    "x=df['TV']\n",
    "y=df['sales']\n",
    "\n",
    "x_train, x_test, y_train, y_test=train_test_split(x,y,test_size=0.3)\n",
    "model=LinearRegression()\n",
    "model.fit(np.array(x_train),np.array(y_train))\n",
    "y_pred=model.predict(x_test)"
   ]
  },
  {
   "cell_type": "code",
   "execution_count": 42,
   "id": "b2b52d6b",
   "metadata": {},
   "outputs": [
    {
     "data": {
      "text/plain": [
       "14     16.817174\n",
       "48     17.930825\n",
       "153    15.235885\n",
       "158     7.541566\n",
       "189     7.879036\n",
       "5       7.396936\n",
       "191    10.617365\n",
       "105    13.625670\n",
       "161    11.109107\n",
       "196    11.518893\n",
       "31     12.420420\n",
       "148     8.809490\n",
       "110    17.863331\n",
       "102    20.485956\n",
       "187    16.190443\n",
       "42     21.131970\n",
       "133    17.574071\n",
       "34     11.591208\n",
       "86     10.655933\n",
       "19     14.078845\n",
       "121     7.883857\n",
       "73     13.215885\n",
       "190     8.881805\n",
       "76      8.303284\n",
       "12      8.124907\n",
       "0      18.070634\n",
       "194    14.194549\n",
       "59     17.135360\n",
       "136     8.211685\n",
       "11     17.328200\n",
       "32     11.663523\n",
       "171    14.908057\n",
       "167    16.947341\n",
       "74     17.265527\n",
       "178    20.317221\n",
       "28     18.972161\n",
       "96     16.503808\n",
       "128    17.598176\n",
       "181    17.511398\n",
       "173    15.096076\n",
       "89     12.270969\n",
       "26     13.866720\n",
       "18     10.313642\n",
       "47     18.543092\n",
       "186    13.702806\n",
       "142    17.607818\n",
       "52     17.410157\n",
       "195     8.819132\n",
       "162    16.060276\n",
       "154    16.031350\n",
       "33     19.782090\n",
       "56      7.329442\n",
       "83     10.275074\n",
       "125    11.181422\n",
       "175    20.326863\n",
       "113    17.082329\n",
       "112    15.448009\n",
       "192     7.806721\n",
       "78      7.237843\n",
       "165    18.282758\n",
       "Name: TV, dtype: float64"
      ]
     },
     "execution_count": 42,
     "metadata": {},
     "output_type": "execute_result"
    }
   ],
   "source": [
    "y_pred"
   ]
  },
  {
   "cell_type": "code",
   "execution_count": 43,
   "id": "dbea95c4",
   "metadata": {},
   "outputs": [
    {
     "name": "stdout",
     "output_type": "stream",
     "text": [
      "Weight:0.04821001786557205\n",
      "Bias:6.977508899977546\n"
     ]
    }
   ],
   "source": [
    "print(f'Weight:{model.weight}')\n",
    "print(f'Bias:{model.bias}')"
   ]
  },
  {
   "cell_type": "code",
   "execution_count": 44,
   "id": "5e6c2f07",
   "metadata": {},
   "outputs": [
    {
     "data": {
      "text/plain": [
       "Text(0, 0.5, 'Sales')"
      ]
     },
     "execution_count": 44,
     "metadata": {},
     "output_type": "execute_result"
    },
    {
     "data": {
      "image/png": "[encoded data removed]",
      "text/plain": [
       "<Figure size 640x480 with 1 Axes>"
      ]
     },
     "metadata": {},
     "output_type": "display_data"
    }
   ],
   "source": [
    "plt.title('TV vs Sales')\n",
    "plt.scatter(x,y)\n",
    "plt.plot(x,model.bias+model.weight*x,'r-')\n",
    "plt.xlabel('TV')\n",
    "plt.ylabel('Sales')"
   ]
  },
  {
   "cell_type": "code",
   "execution_count": null,
   "id": "a66eb8cc",
   "metadata": {},
   "outputs": [],
   "source": []
  },
  {
   "cell_type": "code",
   "execution_count": null,
   "id": "dc46ec46",
   "metadata": {},
   "outputs": [],
   "source": []
  }
 ],
 "metadata": {
  "kernelspec": {
   "display_name": "Python 3 (ipykernel)",
   "language": "python",
   "name": "python3"
  },
  "language_info": {
   "codemirror_mode": {
    "name": "ipython",
    "version": 3
   },
   "file_extension": ".py",
   "mimetype": "text/x-python",
   "name": "python",
   "nbconvert_exporter": "python",
   "pygments_lexer": "ipython3",
   "version": "3.7.9"
  }
 },
 "nbformat": 4,
 "nbformat_minor": 5
}
