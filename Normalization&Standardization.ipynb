{
 "cells": [
  {
   "cell_type": "code",
   "execution_count": 1,
   "id": "e8b22e50",
   "metadata": {},
   "outputs": [],
   "source": [
    "from sklearn import preprocessing\n",
    "import numpy as np\n"
   ]
  },
  {
   "cell_type": "markdown",
   "id": "ec4aaa0e",
   "metadata": {},
   "source": [
    "## Normalization"
   ]
  },
  {
   "cell_type": "code",
   "execution_count": 4,
   "id": "c5bf5a52",
   "metadata": {},
   "outputs": [
    {
     "name": "stdout",
     "output_type": "stream",
     "text": [
      "[[0.01160987 0.0174148  0.02902467 0.04063454 0.09868389 0.11609869\n",
      "  0.46439475 0.87074017]]\n"
     ]
    }
   ],
   "source": [
    "numpy_array=np.array([2,3,5,7,17,20,80,150])\n",
    "normalized_array=preprocessing.normalize([numpy_array])\n",
    "print(normalized_array)"
   ]
  },
  {
   "cell_type": "markdown",
   "id": "c3da364a",
   "metadata": {},
   "source": [
    "## Standardization"
   ]
  },
  {
   "cell_type": "code",
   "execution_count": 6,
   "id": "73ff78e5",
   "metadata": {},
   "outputs": [
    {
     "name": "stdout",
     "output_type": "stream",
     "text": [
      "[[-0.90453403 -0.90453403]\n",
      " [-0.90453403 -0.90453403]\n",
      " [ 0.30151134  0.30151134]\n",
      " [ 1.50755672  1.50755672]]\n"
     ]
    }
   ],
   "source": [
    "from sklearn.preprocessing import StandardScaler\n",
    "data=[[0,0],[0,0],[1,1],[2,2]]\n",
    "scaler=StandardScaler()\n",
    "scaler.fit(data)\n",
    "print(scaler.transform(data))"
   ]
  },
  {
   "cell_type": "code",
   "execution_count": null,
   "id": "064574e7",
   "metadata": {},
   "outputs": [],
   "source": []
  }
 ],
 "metadata": {
  "kernelspec": {
   "display_name": "Python 3 (ipykernel)",
   "language": "python",
   "name": "python3"
  },
  "language_info": {
   "codemirror_mode": {
    "name": "ipython",
    "version": 3
   },
   "file_extension": ".py",
   "mimetype": "text/x-python",
   "name": "python",
   "nbconvert_exporter": "python",
   "pygments_lexer": "ipython3",
   "version": "3.7.9"
  }
 },
 "nbformat": 4,
 "nbformat_minor": 5
}
